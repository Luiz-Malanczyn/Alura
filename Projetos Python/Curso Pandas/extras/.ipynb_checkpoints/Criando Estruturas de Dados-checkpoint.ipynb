{
 "cells": [
  {
   "cell_type": "code",
   "execution_count": 9,
   "id": "38801f12-f9d5-4d7c-a2af-d3d565adb593",
   "metadata": {},
   "outputs": [],
   "source": [
    "import pandas as pd"
   ]
  },
  {
   "cell_type": "markdown",
   "id": "b2b02ded-3aa2-4edb-9081-7127e57e4a0b",
   "metadata": {},
   "source": [
    "# Series"
   ]
  },
  {
   "cell_type": "code",
   "execution_count": 11,
   "id": "8618d232-e80d-415f-9033-7e347894e671",
   "metadata": {},
   "outputs": [],
   "source": [
    "data = [1,2,3,4,5]"
   ]
  },
  {
   "cell_type": "code",
   "execution_count": 12,
   "id": "06755fbd-5835-4842-a110-8e995da4902f",
   "metadata": {},
   "outputs": [],
   "source": [
    "s = pd.Series(data)"
   ]
  },
  {
   "cell_type": "code",
   "execution_count": 13,
   "id": "77343f65-656f-4f18-8bcb-b46857b1848a",
   "metadata": {},
   "outputs": [
    {
     "data": {
      "text/plain": [
       "0    1\n",
       "1    2\n",
       "2    3\n",
       "3    4\n",
       "4    5\n",
       "dtype: int64"
      ]
     },
     "execution_count": 13,
     "metadata": {},
     "output_type": "execute_result"
    }
   ],
   "source": [
    "s"
   ]
  },
  {
   "cell_type": "code",
   "execution_count": 14,
   "id": "d17df281-6501-40b5-bfab-e4fa24cb88c2",
   "metadata": {},
   "outputs": [],
   "source": [
    "index = ['Linha' + str(i) for i in range(5)]"
   ]
  },
  {
   "cell_type": "code",
   "execution_count": 15,
   "id": "604a2632-6687-4cc2-b354-2632d7f60ee6",
   "metadata": {},
   "outputs": [
    {
     "data": {
      "text/plain": [
       "['Linha0', 'Linha1', 'Linha2', 'Linha3', 'Linha4']"
      ]
     },
     "execution_count": 15,
     "metadata": {},
     "output_type": "execute_result"
    }
   ],
   "source": [
    "index"
   ]
  },
  {
   "cell_type": "code",
   "execution_count": 16,
   "id": "89580b62-15b8-4bae-994a-10debf0c26e3",
   "metadata": {},
   "outputs": [],
   "source": [
    "s = pd.Series(data = data, index = index)"
   ]
  },
  {
   "cell_type": "code",
   "execution_count": 17,
   "id": "c0da93a6-28ab-4c97-89a3-da84ec0d492b",
   "metadata": {},
   "outputs": [
    {
     "data": {
      "text/plain": [
       "Linha0    1\n",
       "Linha1    2\n",
       "Linha2    3\n",
       "Linha3    4\n",
       "Linha4    5\n",
       "dtype: int64"
      ]
     },
     "execution_count": 17,
     "metadata": {},
     "output_type": "execute_result"
    }
   ],
   "source": [
    "s"
   ]
  },
  {
   "cell_type": "code",
   "execution_count": 18,
   "id": "df12320e-f1a1-4927-a4d7-87a236046ad3",
   "metadata": {},
   "outputs": [],
   "source": [
    "data = {'Linha' + str(i) : i + 1 for i in range(5)}"
   ]
  },
  {
   "cell_type": "code",
   "execution_count": 19,
   "id": "ae8b82d4-0bd9-43ee-adc5-d8625e71a04f",
   "metadata": {},
   "outputs": [
    {
     "data": {
      "text/plain": [
       "{'Linha0': 1, 'Linha1': 2, 'Linha2': 3, 'Linha3': 4, 'Linha4': 5}"
      ]
     },
     "execution_count": 19,
     "metadata": {},
     "output_type": "execute_result"
    }
   ],
   "source": [
    "data"
   ]
  },
  {
   "cell_type": "code",
   "execution_count": 21,
   "id": "b005d040-da2b-4e92-b0e6-9d08de097884",
   "metadata": {},
   "outputs": [],
   "source": [
    "s = pd.Series(data)"
   ]
  },
  {
   "cell_type": "code",
   "execution_count": 22,
   "id": "1686681b-67b5-4690-86bd-b1ee4064f27b",
   "metadata": {},
   "outputs": [
    {
     "data": {
      "text/plain": [
       "Linha0    1\n",
       "Linha1    2\n",
       "Linha2    3\n",
       "Linha3    4\n",
       "Linha4    5\n",
       "dtype: int64"
      ]
     },
     "execution_count": 22,
     "metadata": {},
     "output_type": "execute_result"
    }
   ],
   "source": [
    "s"
   ]
  },
  {
   "cell_type": "code",
   "execution_count": 23,
   "id": "b274c03f-283c-48d2-92d0-e2fc58e4c0bc",
   "metadata": {},
   "outputs": [],
   "source": [
    "s1 = s + 2"
   ]
  },
  {
   "cell_type": "code",
   "execution_count": 24,
   "id": "1911d33e-9a9c-49c4-a543-f5c5d6209336",
   "metadata": {},
   "outputs": [
    {
     "data": {
      "text/plain": [
       "Linha0    3\n",
       "Linha1    4\n",
       "Linha2    5\n",
       "Linha3    6\n",
       "Linha4    7\n",
       "dtype: int64"
      ]
     },
     "execution_count": 24,
     "metadata": {},
     "output_type": "execute_result"
    }
   ],
   "source": [
    "s1"
   ]
  },
  {
   "cell_type": "code",
   "execution_count": 25,
   "id": "60fd0737-e5f4-4c25-9267-d2bcfb9642c3",
   "metadata": {},
   "outputs": [
    {
     "data": {
      "text/plain": [
       "Linha0     4\n",
       "Linha1     6\n",
       "Linha2     8\n",
       "Linha3    10\n",
       "Linha4    12\n",
       "dtype: int64"
      ]
     },
     "execution_count": 25,
     "metadata": {},
     "output_type": "execute_result"
    }
   ],
   "source": [
    "s2 = s + s1\n",
    "s2"
   ]
  },
  {
   "cell_type": "markdown",
   "id": "b576e3ff-ab22-4d6a-98f7-417414dea066",
   "metadata": {},
   "source": [
    "## DataFrame"
   ]
  },
  {
   "cell_type": "code",
   "execution_count": 26,
   "id": "b1b59348-1499-44ac-8ce8-ee02de9da7aa",
   "metadata": {},
   "outputs": [],
   "source": [
    "data = [[1,2,3],[4,5,6],[7,8,9]]"
   ]
  },
  {
   "cell_type": "code",
   "execution_count": 27,
   "id": "aa8b9762-9ac5-478e-9c06-c8bb54452666",
   "metadata": {},
   "outputs": [
    {
     "data": {
      "text/plain": [
       "[[1, 2, 3], [4, 5, 6], [7, 8, 9]]"
      ]
     },
     "execution_count": 27,
     "metadata": {},
     "output_type": "execute_result"
    }
   ],
   "source": [
    "data"
   ]
  },
  {
   "cell_type": "code",
   "execution_count": 28,
   "id": "6e6eabd7-9239-4c98-b847-15860abd3b0b",
   "metadata": {},
   "outputs": [],
   "source": [
    "df1 = pd.DataFrame(data = data)"
   ]
  },
  {
   "cell_type": "code",
   "execution_count": 29,
   "id": "feb27ccd-599e-49a9-8f9c-998472381dea",
   "metadata": {},
   "outputs": [
    {
     "data": {
      "text/html": [
       "<div>\n",
       "<style scoped>\n",
       "    .dataframe tbody tr th:only-of-type {\n",
       "        vertical-align: middle;\n",
       "    }\n",
       "\n",
       "    .dataframe tbody tr th {\n",
       "        vertical-align: top;\n",
       "    }\n",
       "\n",
       "    .dataframe thead th {\n",
       "        text-align: right;\n",
       "    }\n",
       "</style>\n",
       "<table border=\"1\" class=\"dataframe\">\n",
       "  <thead>\n",
       "    <tr style=\"text-align: right;\">\n",
       "      <th></th>\n",
       "      <th>0</th>\n",
       "      <th>1</th>\n",
       "      <th>2</th>\n",
       "    </tr>\n",
       "  </thead>\n",
       "  <tbody>\n",
       "    <tr>\n",
       "      <th>0</th>\n",
       "      <td>1</td>\n",
       "      <td>2</td>\n",
       "      <td>3</td>\n",
       "    </tr>\n",
       "    <tr>\n",
       "      <th>1</th>\n",
       "      <td>4</td>\n",
       "      <td>5</td>\n",
       "      <td>6</td>\n",
       "    </tr>\n",
       "    <tr>\n",
       "      <th>2</th>\n",
       "      <td>7</td>\n",
       "      <td>8</td>\n",
       "      <td>9</td>\n",
       "    </tr>\n",
       "  </tbody>\n",
       "</table>\n",
       "</div>"
      ],
      "text/plain": [
       "   0  1  2\n",
       "0  1  2  3\n",
       "1  4  5  6\n",
       "2  7  8  9"
      ]
     },
     "execution_count": 29,
     "metadata": {},
     "output_type": "execute_result"
    }
   ],
   "source": [
    "df1"
   ]
  },
  {
   "cell_type": "code",
   "execution_count": 30,
   "id": "02a09729-d224-470a-95de-a12d50a9e96d",
   "metadata": {},
   "outputs": [],
   "source": [
    "index = ['Linha' + str(i) for i in range(3)]"
   ]
  },
  {
   "cell_type": "code",
   "execution_count": 31,
   "id": "e1146f59-1af7-43d8-b7d2-a9543a51fe46",
   "metadata": {},
   "outputs": [
    {
     "data": {
      "text/plain": [
       "['Linha0', 'Linha1', 'Linha2']"
      ]
     },
     "execution_count": 31,
     "metadata": {},
     "output_type": "execute_result"
    }
   ],
   "source": [
    "index"
   ]
  },
  {
   "cell_type": "code",
   "execution_count": 32,
   "id": "159f135c-0aaf-4115-a1c1-483929e8b2bd",
   "metadata": {},
   "outputs": [],
   "source": [
    "df1 = pd.DataFrame(data = data, index = index)"
   ]
  },
  {
   "cell_type": "code",
   "execution_count": 33,
   "id": "a3878028-7b03-441e-88fc-a5ec431a2913",
   "metadata": {},
   "outputs": [
    {
     "data": {
      "text/html": [
       "<div>\n",
       "<style scoped>\n",
       "    .dataframe tbody tr th:only-of-type {\n",
       "        vertical-align: middle;\n",
       "    }\n",
       "\n",
       "    .dataframe tbody tr th {\n",
       "        vertical-align: top;\n",
       "    }\n",
       "\n",
       "    .dataframe thead th {\n",
       "        text-align: right;\n",
       "    }\n",
       "</style>\n",
       "<table border=\"1\" class=\"dataframe\">\n",
       "  <thead>\n",
       "    <tr style=\"text-align: right;\">\n",
       "      <th></th>\n",
       "      <th>0</th>\n",
       "      <th>1</th>\n",
       "      <th>2</th>\n",
       "    </tr>\n",
       "  </thead>\n",
       "  <tbody>\n",
       "    <tr>\n",
       "      <th>Linha0</th>\n",
       "      <td>1</td>\n",
       "      <td>2</td>\n",
       "      <td>3</td>\n",
       "    </tr>\n",
       "    <tr>\n",
       "      <th>Linha1</th>\n",
       "      <td>4</td>\n",
       "      <td>5</td>\n",
       "      <td>6</td>\n",
       "    </tr>\n",
       "    <tr>\n",
       "      <th>Linha2</th>\n",
       "      <td>7</td>\n",
       "      <td>8</td>\n",
       "      <td>9</td>\n",
       "    </tr>\n",
       "  </tbody>\n",
       "</table>\n",
       "</div>"
      ],
      "text/plain": [
       "        0  1  2\n",
       "Linha0  1  2  3\n",
       "Linha1  4  5  6\n",
       "Linha2  7  8  9"
      ]
     },
     "execution_count": 33,
     "metadata": {},
     "output_type": "execute_result"
    }
   ],
   "source": [
    "df1"
   ]
  },
  {
   "cell_type": "code",
   "execution_count": 34,
   "id": "1654a332-aa83-4568-af53-1ca5f40e75de",
   "metadata": {},
   "outputs": [],
   "source": [
    "columns = ['Coluna' + str(i) for i in range(3)]"
   ]
  },
  {
   "cell_type": "code",
   "execution_count": 35,
   "id": "04a1dff8-ffd8-4e61-a85e-a43e2dc04974",
   "metadata": {},
   "outputs": [
    {
     "data": {
      "text/plain": [
       "['Coluna0', 'Coluna1', 'Coluna2']"
      ]
     },
     "execution_count": 35,
     "metadata": {},
     "output_type": "execute_result"
    }
   ],
   "source": [
    "columns"
   ]
  },
  {
   "cell_type": "code",
   "execution_count": 36,
   "id": "565e1fa8-fe22-4ed3-b1de-3a0b7f001291",
   "metadata": {},
   "outputs": [],
   "source": [
    "df1 = pd.DataFrame(data = data, index = index, columns = columns)"
   ]
  },
  {
   "cell_type": "code",
   "execution_count": 37,
   "id": "b831c1f3-cd33-45ac-8ac2-aaeeb1c34c0a",
   "metadata": {},
   "outputs": [
    {
     "data": {
      "text/html": [
       "<div>\n",
       "<style scoped>\n",
       "    .dataframe tbody tr th:only-of-type {\n",
       "        vertical-align: middle;\n",
       "    }\n",
       "\n",
       "    .dataframe tbody tr th {\n",
       "        vertical-align: top;\n",
       "    }\n",
       "\n",
       "    .dataframe thead th {\n",
       "        text-align: right;\n",
       "    }\n",
       "</style>\n",
       "<table border=\"1\" class=\"dataframe\">\n",
       "  <thead>\n",
       "    <tr style=\"text-align: right;\">\n",
       "      <th></th>\n",
       "      <th>Coluna0</th>\n",
       "      <th>Coluna1</th>\n",
       "      <th>Coluna2</th>\n",
       "    </tr>\n",
       "  </thead>\n",
       "  <tbody>\n",
       "    <tr>\n",
       "      <th>Linha0</th>\n",
       "      <td>1</td>\n",
       "      <td>2</td>\n",
       "      <td>3</td>\n",
       "    </tr>\n",
       "    <tr>\n",
       "      <th>Linha1</th>\n",
       "      <td>4</td>\n",
       "      <td>5</td>\n",
       "      <td>6</td>\n",
       "    </tr>\n",
       "    <tr>\n",
       "      <th>Linha2</th>\n",
       "      <td>7</td>\n",
       "      <td>8</td>\n",
       "      <td>9</td>\n",
       "    </tr>\n",
       "  </tbody>\n",
       "</table>\n",
       "</div>"
      ],
      "text/plain": [
       "        Coluna0  Coluna1  Coluna2\n",
       "Linha0        1        2        3\n",
       "Linha1        4        5        6\n",
       "Linha2        7        8        9"
      ]
     },
     "execution_count": 37,
     "metadata": {},
     "output_type": "execute_result"
    }
   ],
   "source": [
    "df1"
   ]
  },
  {
   "cell_type": "code",
   "execution_count": 38,
   "id": "9262ef5a-5885-44e0-8fd8-36b7cd60154c",
   "metadata": {},
   "outputs": [],
   "source": [
    "data = {'Coluna0': {'Linha0': 1, 'Linha1': 4, 'Linha2': 7},\n",
    "        'Coluna1': {'Linha0': 2, 'Linha1': 5, 'Linha2': 8},\n",
    "        'Coluna2': {'Linha0': 3, 'Linha1': 6, 'Linha2': 9}}"
   ]
  },
  {
   "cell_type": "code",
   "execution_count": 39,
   "id": "e8c8d0cc-b464-4f24-8d76-d8c94127af0e",
   "metadata": {},
   "outputs": [
    {
     "data": {
      "text/plain": [
       "{'Coluna0': {'Linha0': 1, 'Linha1': 4, 'Linha2': 7},\n",
       " 'Coluna1': {'Linha0': 2, 'Linha1': 5, 'Linha2': 8},\n",
       " 'Coluna2': {'Linha0': 3, 'Linha1': 6, 'Linha2': 9}}"
      ]
     },
     "execution_count": 39,
     "metadata": {},
     "output_type": "execute_result"
    }
   ],
   "source": [
    "data"
   ]
  },
  {
   "cell_type": "code",
   "execution_count": 40,
   "id": "2e305ee3-c60c-4eaf-8907-b4aa9c4ce73d",
   "metadata": {},
   "outputs": [],
   "source": [
    "df2 = pd.DataFrame(data)"
   ]
  },
  {
   "cell_type": "code",
   "execution_count": 41,
   "id": "858df1ab-725c-487b-8c3c-62154b21a093",
   "metadata": {},
   "outputs": [
    {
     "data": {
      "text/html": [
       "<div>\n",
       "<style scoped>\n",
       "    .dataframe tbody tr th:only-of-type {\n",
       "        vertical-align: middle;\n",
       "    }\n",
       "\n",
       "    .dataframe tbody tr th {\n",
       "        vertical-align: top;\n",
       "    }\n",
       "\n",
       "    .dataframe thead th {\n",
       "        text-align: right;\n",
       "    }\n",
       "</style>\n",
       "<table border=\"1\" class=\"dataframe\">\n",
       "  <thead>\n",
       "    <tr style=\"text-align: right;\">\n",
       "      <th></th>\n",
       "      <th>Coluna0</th>\n",
       "      <th>Coluna1</th>\n",
       "      <th>Coluna2</th>\n",
       "    </tr>\n",
       "  </thead>\n",
       "  <tbody>\n",
       "    <tr>\n",
       "      <th>Linha0</th>\n",
       "      <td>1</td>\n",
       "      <td>2</td>\n",
       "      <td>3</td>\n",
       "    </tr>\n",
       "    <tr>\n",
       "      <th>Linha1</th>\n",
       "      <td>4</td>\n",
       "      <td>5</td>\n",
       "      <td>6</td>\n",
       "    </tr>\n",
       "    <tr>\n",
       "      <th>Linha2</th>\n",
       "      <td>7</td>\n",
       "      <td>8</td>\n",
       "      <td>9</td>\n",
       "    </tr>\n",
       "  </tbody>\n",
       "</table>\n",
       "</div>"
      ],
      "text/plain": [
       "        Coluna0  Coluna1  Coluna2\n",
       "Linha0        1        2        3\n",
       "Linha1        4        5        6\n",
       "Linha2        7        8        9"
      ]
     },
     "execution_count": 41,
     "metadata": {},
     "output_type": "execute_result"
    }
   ],
   "source": [
    "df2"
   ]
  },
  {
   "cell_type": "code",
   "execution_count": 42,
   "id": "231494c7-2841-495f-912f-c5c07c3edc25",
   "metadata": {},
   "outputs": [],
   "source": [
    "data = [(1,2,3),(4,5,6),(7,8,9)]"
   ]
  },
  {
   "cell_type": "code",
   "execution_count": 43,
   "id": "5419e821-902e-433b-8b61-59406b4b314d",
   "metadata": {},
   "outputs": [
    {
     "data": {
      "text/plain": [
       "[(1, 2, 3), (4, 5, 6), (7, 8, 9)]"
      ]
     },
     "execution_count": 43,
     "metadata": {},
     "output_type": "execute_result"
    }
   ],
   "source": [
    "data"
   ]
  },
  {
   "cell_type": "code",
   "execution_count": 45,
   "id": "97ba3438-56ad-4316-a417-1d9bb639b99e",
   "metadata": {},
   "outputs": [],
   "source": [
    "df3 = pd.DataFrame(data = data, index = index, columns = columns)"
   ]
  },
  {
   "cell_type": "code",
   "execution_count": 46,
   "id": "78fac3f2-32a9-4ae6-8daa-66eb666806d6",
   "metadata": {},
   "outputs": [
    {
     "data": {
      "text/html": [
       "<div>\n",
       "<style scoped>\n",
       "    .dataframe tbody tr th:only-of-type {\n",
       "        vertical-align: middle;\n",
       "    }\n",
       "\n",
       "    .dataframe tbody tr th {\n",
       "        vertical-align: top;\n",
       "    }\n",
       "\n",
       "    .dataframe thead th {\n",
       "        text-align: right;\n",
       "    }\n",
       "</style>\n",
       "<table border=\"1\" class=\"dataframe\">\n",
       "  <thead>\n",
       "    <tr style=\"text-align: right;\">\n",
       "      <th></th>\n",
       "      <th>Coluna0</th>\n",
       "      <th>Coluna1</th>\n",
       "      <th>Coluna2</th>\n",
       "    </tr>\n",
       "  </thead>\n",
       "  <tbody>\n",
       "    <tr>\n",
       "      <th>Linha0</th>\n",
       "      <td>1</td>\n",
       "      <td>2</td>\n",
       "      <td>3</td>\n",
       "    </tr>\n",
       "    <tr>\n",
       "      <th>Linha1</th>\n",
       "      <td>4</td>\n",
       "      <td>5</td>\n",
       "      <td>6</td>\n",
       "    </tr>\n",
       "    <tr>\n",
       "      <th>Linha2</th>\n",
       "      <td>7</td>\n",
       "      <td>8</td>\n",
       "      <td>9</td>\n",
       "    </tr>\n",
       "  </tbody>\n",
       "</table>\n",
       "</div>"
      ],
      "text/plain": [
       "        Coluna0  Coluna1  Coluna2\n",
       "Linha0        1        2        3\n",
       "Linha1        4        5        6\n",
       "Linha2        7        8        9"
      ]
     },
     "execution_count": 46,
     "metadata": {},
     "output_type": "execute_result"
    }
   ],
   "source": [
    "df3"
   ]
  },
  {
   "cell_type": "code",
   "execution_count": 47,
   "id": "1d61c0e6-84f7-40e7-afcb-f1133a4c8788",
   "metadata": {},
   "outputs": [
    {
     "name": "stderr",
     "output_type": "stream",
     "text": [
      "C:\\Users\\olive\\AppData\\Local\\Temp\\ipykernel_3832\\306497466.py:1: FutureWarning: Setting an item of incompatible dtype is deprecated and will raise in a future error of pandas. Value 'A' has dtype incompatible with int64, please explicitly cast to a compatible dtype first.\n",
      "  df1[df1 > 0] = 'A'\n"
     ]
    },
    {
     "data": {
      "text/html": [
       "<div>\n",
       "<style scoped>\n",
       "    .dataframe tbody tr th:only-of-type {\n",
       "        vertical-align: middle;\n",
       "    }\n",
       "\n",
       "    .dataframe tbody tr th {\n",
       "        vertical-align: top;\n",
       "    }\n",
       "\n",
       "    .dataframe thead th {\n",
       "        text-align: right;\n",
       "    }\n",
       "</style>\n",
       "<table border=\"1\" class=\"dataframe\">\n",
       "  <thead>\n",
       "    <tr style=\"text-align: right;\">\n",
       "      <th></th>\n",
       "      <th>Coluna0</th>\n",
       "      <th>Coluna1</th>\n",
       "      <th>Coluna2</th>\n",
       "    </tr>\n",
       "  </thead>\n",
       "  <tbody>\n",
       "    <tr>\n",
       "      <th>Linha0</th>\n",
       "      <td>A</td>\n",
       "      <td>A</td>\n",
       "      <td>A</td>\n",
       "    </tr>\n",
       "    <tr>\n",
       "      <th>Linha1</th>\n",
       "      <td>A</td>\n",
       "      <td>A</td>\n",
       "      <td>A</td>\n",
       "    </tr>\n",
       "    <tr>\n",
       "      <th>Linha2</th>\n",
       "      <td>A</td>\n",
       "      <td>A</td>\n",
       "      <td>A</td>\n",
       "    </tr>\n",
       "  </tbody>\n",
       "</table>\n",
       "</div>"
      ],
      "text/plain": [
       "       Coluna0 Coluna1 Coluna2\n",
       "Linha0       A       A       A\n",
       "Linha1       A       A       A\n",
       "Linha2       A       A       A"
      ]
     },
     "execution_count": 47,
     "metadata": {},
     "output_type": "execute_result"
    }
   ],
   "source": [
    "df1[df1 > 0] = 'A'\n",
    "df1"
   ]
  },
  {
   "cell_type": "code",
   "execution_count": 49,
   "id": "c0b8571f-32bc-4494-97cb-03f4ecf5960c",
   "metadata": {},
   "outputs": [
    {
     "name": "stderr",
     "output_type": "stream",
     "text": [
      "C:\\Users\\olive\\AppData\\Local\\Temp\\ipykernel_3832\\416000018.py:1: FutureWarning: Setting an item of incompatible dtype is deprecated and will raise in a future error of pandas. Value 'B' has dtype incompatible with int64, please explicitly cast to a compatible dtype first.\n",
      "  df2[df2 > 0] = 'B'\n"
     ]
    },
    {
     "data": {
      "text/html": [
       "<div>\n",
       "<style scoped>\n",
       "    .dataframe tbody tr th:only-of-type {\n",
       "        vertical-align: middle;\n",
       "    }\n",
       "\n",
       "    .dataframe tbody tr th {\n",
       "        vertical-align: top;\n",
       "    }\n",
       "\n",
       "    .dataframe thead th {\n",
       "        text-align: right;\n",
       "    }\n",
       "</style>\n",
       "<table border=\"1\" class=\"dataframe\">\n",
       "  <thead>\n",
       "    <tr style=\"text-align: right;\">\n",
       "      <th></th>\n",
       "      <th>Coluna0</th>\n",
       "      <th>Coluna1</th>\n",
       "      <th>Coluna2</th>\n",
       "    </tr>\n",
       "  </thead>\n",
       "  <tbody>\n",
       "    <tr>\n",
       "      <th>Linha0</th>\n",
       "      <td>B</td>\n",
       "      <td>B</td>\n",
       "      <td>B</td>\n",
       "    </tr>\n",
       "    <tr>\n",
       "      <th>Linha1</th>\n",
       "      <td>B</td>\n",
       "      <td>B</td>\n",
       "      <td>B</td>\n",
       "    </tr>\n",
       "    <tr>\n",
       "      <th>Linha2</th>\n",
       "      <td>B</td>\n",
       "      <td>B</td>\n",
       "      <td>B</td>\n",
       "    </tr>\n",
       "  </tbody>\n",
       "</table>\n",
       "</div>"
      ],
      "text/plain": [
       "       Coluna0 Coluna1 Coluna2\n",
       "Linha0       B       B       B\n",
       "Linha1       B       B       B\n",
       "Linha2       B       B       B"
      ]
     },
     "execution_count": 49,
     "metadata": {},
     "output_type": "execute_result"
    }
   ],
   "source": [
    "df2[df2 > 0] = 'B'\n",
    "df2"
   ]
  },
  {
   "cell_type": "code",
   "execution_count": 50,
   "id": "dd350953-4aba-4e73-b235-c9de81ec712b",
   "metadata": {},
   "outputs": [
    {
     "name": "stderr",
     "output_type": "stream",
     "text": [
      "C:\\Users\\olive\\AppData\\Local\\Temp\\ipykernel_3832\\2590307496.py:1: FutureWarning: Setting an item of incompatible dtype is deprecated and will raise in a future error of pandas. Value 'C' has dtype incompatible with int64, please explicitly cast to a compatible dtype first.\n",
      "  df3[df3 > 0] = 'C'\n"
     ]
    },
    {
     "data": {
      "text/html": [
       "<div>\n",
       "<style scoped>\n",
       "    .dataframe tbody tr th:only-of-type {\n",
       "        vertical-align: middle;\n",
       "    }\n",
       "\n",
       "    .dataframe tbody tr th {\n",
       "        vertical-align: top;\n",
       "    }\n",
       "\n",
       "    .dataframe thead th {\n",
       "        text-align: right;\n",
       "    }\n",
       "</style>\n",
       "<table border=\"1\" class=\"dataframe\">\n",
       "  <thead>\n",
       "    <tr style=\"text-align: right;\">\n",
       "      <th></th>\n",
       "      <th>Coluna0</th>\n",
       "      <th>Coluna1</th>\n",
       "      <th>Coluna2</th>\n",
       "    </tr>\n",
       "  </thead>\n",
       "  <tbody>\n",
       "    <tr>\n",
       "      <th>Linha0</th>\n",
       "      <td>C</td>\n",
       "      <td>C</td>\n",
       "      <td>C</td>\n",
       "    </tr>\n",
       "    <tr>\n",
       "      <th>Linha1</th>\n",
       "      <td>C</td>\n",
       "      <td>C</td>\n",
       "      <td>C</td>\n",
       "    </tr>\n",
       "    <tr>\n",
       "      <th>Linha2</th>\n",
       "      <td>C</td>\n",
       "      <td>C</td>\n",
       "      <td>C</td>\n",
       "    </tr>\n",
       "  </tbody>\n",
       "</table>\n",
       "</div>"
      ],
      "text/plain": [
       "       Coluna0 Coluna1 Coluna2\n",
       "Linha0       C       C       C\n",
       "Linha1       C       C       C\n",
       "Linha2       C       C       C"
      ]
     },
     "execution_count": 50,
     "metadata": {},
     "output_type": "execute_result"
    }
   ],
   "source": [
    "df3[df3 > 0] = 'C'\n",
    "df3"
   ]
  },
  {
   "cell_type": "code",
   "execution_count": 51,
   "id": "e47039e1-6867-4179-803a-1ce096c9e0ef",
   "metadata": {},
   "outputs": [
    {
     "data": {
      "text/html": [
       "<div>\n",
       "<style scoped>\n",
       "    .dataframe tbody tr th:only-of-type {\n",
       "        vertical-align: middle;\n",
       "    }\n",
       "\n",
       "    .dataframe tbody tr th {\n",
       "        vertical-align: top;\n",
       "    }\n",
       "\n",
       "    .dataframe thead th {\n",
       "        text-align: right;\n",
       "    }\n",
       "</style>\n",
       "<table border=\"1\" class=\"dataframe\">\n",
       "  <thead>\n",
       "    <tr style=\"text-align: right;\">\n",
       "      <th></th>\n",
       "      <th>Coluna0</th>\n",
       "      <th>Coluna1</th>\n",
       "      <th>Coluna2</th>\n",
       "    </tr>\n",
       "  </thead>\n",
       "  <tbody>\n",
       "    <tr>\n",
       "      <th>Linha0</th>\n",
       "      <td>A</td>\n",
       "      <td>A</td>\n",
       "      <td>A</td>\n",
       "    </tr>\n",
       "    <tr>\n",
       "      <th>Linha1</th>\n",
       "      <td>A</td>\n",
       "      <td>A</td>\n",
       "      <td>A</td>\n",
       "    </tr>\n",
       "    <tr>\n",
       "      <th>Linha2</th>\n",
       "      <td>A</td>\n",
       "      <td>A</td>\n",
       "      <td>A</td>\n",
       "    </tr>\n",
       "    <tr>\n",
       "      <th>Linha0</th>\n",
       "      <td>B</td>\n",
       "      <td>B</td>\n",
       "      <td>B</td>\n",
       "    </tr>\n",
       "    <tr>\n",
       "      <th>Linha1</th>\n",
       "      <td>B</td>\n",
       "      <td>B</td>\n",
       "      <td>B</td>\n",
       "    </tr>\n",
       "    <tr>\n",
       "      <th>Linha2</th>\n",
       "      <td>B</td>\n",
       "      <td>B</td>\n",
       "      <td>B</td>\n",
       "    </tr>\n",
       "    <tr>\n",
       "      <th>Linha0</th>\n",
       "      <td>C</td>\n",
       "      <td>C</td>\n",
       "      <td>C</td>\n",
       "    </tr>\n",
       "    <tr>\n",
       "      <th>Linha1</th>\n",
       "      <td>C</td>\n",
       "      <td>C</td>\n",
       "      <td>C</td>\n",
       "    </tr>\n",
       "    <tr>\n",
       "      <th>Linha2</th>\n",
       "      <td>C</td>\n",
       "      <td>C</td>\n",
       "      <td>C</td>\n",
       "    </tr>\n",
       "  </tbody>\n",
       "</table>\n",
       "</div>"
      ],
      "text/plain": [
       "       Coluna0 Coluna1 Coluna2\n",
       "Linha0       A       A       A\n",
       "Linha1       A       A       A\n",
       "Linha2       A       A       A\n",
       "Linha0       B       B       B\n",
       "Linha1       B       B       B\n",
       "Linha2       B       B       B\n",
       "Linha0       C       C       C\n",
       "Linha1       C       C       C\n",
       "Linha2       C       C       C"
      ]
     },
     "execution_count": 51,
     "metadata": {},
     "output_type": "execute_result"
    }
   ],
   "source": [
    "df4 = pd.concat([df1, df2, df3])\n",
    "df4"
   ]
  },
  {
   "cell_type": "code",
   "execution_count": 52,
   "id": "5db028bb-02d5-4cbd-aeec-d9ed97c8a3fd",
   "metadata": {},
   "outputs": [
    {
     "data": {
      "text/html": [
       "<div>\n",
       "<style scoped>\n",
       "    .dataframe tbody tr th:only-of-type {\n",
       "        vertical-align: middle;\n",
       "    }\n",
       "\n",
       "    .dataframe tbody tr th {\n",
       "        vertical-align: top;\n",
       "    }\n",
       "\n",
       "    .dataframe thead th {\n",
       "        text-align: right;\n",
       "    }\n",
       "</style>\n",
       "<table border=\"1\" class=\"dataframe\">\n",
       "  <thead>\n",
       "    <tr style=\"text-align: right;\">\n",
       "      <th></th>\n",
       "      <th>Coluna0</th>\n",
       "      <th>Coluna1</th>\n",
       "      <th>Coluna2</th>\n",
       "      <th>Coluna0</th>\n",
       "      <th>Coluna1</th>\n",
       "      <th>Coluna2</th>\n",
       "      <th>Coluna0</th>\n",
       "      <th>Coluna1</th>\n",
       "      <th>Coluna2</th>\n",
       "    </tr>\n",
       "  </thead>\n",
       "  <tbody>\n",
       "    <tr>\n",
       "      <th>Linha0</th>\n",
       "      <td>A</td>\n",
       "      <td>A</td>\n",
       "      <td>A</td>\n",
       "      <td>B</td>\n",
       "      <td>B</td>\n",
       "      <td>B</td>\n",
       "      <td>C</td>\n",
       "      <td>C</td>\n",
       "      <td>C</td>\n",
       "    </tr>\n",
       "    <tr>\n",
       "      <th>Linha1</th>\n",
       "      <td>A</td>\n",
       "      <td>A</td>\n",
       "      <td>A</td>\n",
       "      <td>B</td>\n",
       "      <td>B</td>\n",
       "      <td>B</td>\n",
       "      <td>C</td>\n",
       "      <td>C</td>\n",
       "      <td>C</td>\n",
       "    </tr>\n",
       "    <tr>\n",
       "      <th>Linha2</th>\n",
       "      <td>A</td>\n",
       "      <td>A</td>\n",
       "      <td>A</td>\n",
       "      <td>B</td>\n",
       "      <td>B</td>\n",
       "      <td>B</td>\n",
       "      <td>C</td>\n",
       "      <td>C</td>\n",
       "      <td>C</td>\n",
       "    </tr>\n",
       "  </tbody>\n",
       "</table>\n",
       "</div>"
      ],
      "text/plain": [
       "       Coluna0 Coluna1 Coluna2 Coluna0 Coluna1 Coluna2 Coluna0 Coluna1 Coluna2\n",
       "Linha0       A       A       A       B       B       B       C       C       C\n",
       "Linha1       A       A       A       B       B       B       C       C       C\n",
       "Linha2       A       A       A       B       B       B       C       C       C"
      ]
     },
     "execution_count": 52,
     "metadata": {},
     "output_type": "execute_result"
    }
   ],
   "source": [
    "df4 = pd.concat([df1, df2, df3], axis=1)\n",
    "df4"
   ]
  },
  {
   "cell_type": "code",
   "execution_count": null,
   "id": "dfbfafac-40b1-43a9-8230-cd3d6bcc7cba",
   "metadata": {},
   "outputs": [],
   "source": []
  }
 ],
 "metadata": {
  "kernelspec": {
   "display_name": "Python 3 (ipykernel)",
   "language": "python",
   "name": "python3"
  },
  "language_info": {
   "codemirror_mode": {
    "name": "ipython",
    "version": 3
   },
   "file_extension": ".py",
   "mimetype": "text/x-python",
   "name": "python",
   "nbconvert_exporter": "python",
   "pygments_lexer": "ipython3",
   "version": "3.12.0"
  }
 },
 "nbformat": 4,
 "nbformat_minor": 5
}
