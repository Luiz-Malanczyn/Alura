{
 "cells": [
  {
   "cell_type": "code",
   "execution_count": 78,
   "id": "48620785-cca2-4272-a841-a1093fe363f0",
   "metadata": {},
   "outputs": [],
   "source": [
    "%matplotlib inline\n",
    "import pandas as pd\n",
    "import matplotlib.pyplot as plt\n",
    "plt.rc('figure', figsize = (14,6))"
   ]
  },
  {
   "cell_type": "code",
   "execution_count": 79,
   "id": "2c9d3e97-9e70-4678-802e-1a20b793b448",
   "metadata": {},
   "outputs": [],
   "source": [
    "dados = pd.read_csv('dados/aluguel_amostra.csv', sep = ';')"
   ]
  },
  {
   "cell_type": "code",
   "execution_count": 90,
   "id": "ee9ffb9c-757a-42f5-b453-03723699fbeb",
   "metadata": {},
   "outputs": [
    {
     "data": {
      "text/plain": [
       "<Axes: >"
      ]
     },
     "execution_count": 90,
     "metadata": {},
     "output_type": "execute_result"
    },
    {
     "data": {
      "image/png": "[encoded data removed]",
      "text/plain": [
       "<Figure size 1400x600 with 1 Axes>"
      ]
     },
     "metadata": {},
     "output_type": "display_data"
    }
   ],
   "source": [
    "dados.boxplot(['Valor m2'])"
   ]
  },
  {
   "cell_type": "code",
   "execution_count": 81,
   "id": "8b8c9bb0-7f08-4349-a8f7-4899ffedc557",
   "metadata": {},
   "outputs": [
    {
     "data": {
      "text/html": [
       "<div>\n",
       "<style scoped>\n",
       "    .dataframe tbody tr th:only-of-type {\n",
       "        vertical-align: middle;\n",
       "    }\n",
       "\n",
       "    .dataframe tbody tr th {\n",
       "        vertical-align: top;\n",
       "    }\n",
       "\n",
       "    .dataframe thead th {\n",
       "        text-align: right;\n",
       "    }\n",
       "</style>\n",
       "<table border=\"1\" class=\"dataframe\">\n",
       "  <thead>\n",
       "    <tr style=\"text-align: right;\">\n",
       "      <th></th>\n",
       "      <th>Tipo</th>\n",
       "      <th>Bairro</th>\n",
       "      <th>Quartos</th>\n",
       "      <th>Vagas</th>\n",
       "      <th>Suites</th>\n",
       "      <th>Area</th>\n",
       "      <th>Valor</th>\n",
       "      <th>Condominio</th>\n",
       "      <th>IPTU</th>\n",
       "      <th>Valor m2</th>\n",
       "      <th>Tipo Agregado</th>\n",
       "    </tr>\n",
       "  </thead>\n",
       "  <tbody>\n",
       "    <tr>\n",
       "      <th>0</th>\n",
       "      <td>Apartamento</td>\n",
       "      <td>Recreio dos Bandeirantes</td>\n",
       "      <td>3</td>\n",
       "      <td>2</td>\n",
       "      <td>1</td>\n",
       "      <td>320</td>\n",
       "      <td>3200.0</td>\n",
       "      <td>1319.0</td>\n",
       "      <td>0.0</td>\n",
       "      <td>10.00</td>\n",
       "      <td>Apartamento</td>\n",
       "    </tr>\n",
       "    <tr>\n",
       "      <th>1</th>\n",
       "      <td>Apartamento</td>\n",
       "      <td>Maracanã</td>\n",
       "      <td>2</td>\n",
       "      <td>0</td>\n",
       "      <td>0</td>\n",
       "      <td>59</td>\n",
       "      <td>800.0</td>\n",
       "      <td>725.0</td>\n",
       "      <td>47.0</td>\n",
       "      <td>13.56</td>\n",
       "      <td>Apartamento</td>\n",
       "    </tr>\n",
       "    <tr>\n",
       "      <th>2</th>\n",
       "      <td>Apartamento</td>\n",
       "      <td>Leblon</td>\n",
       "      <td>3</td>\n",
       "      <td>2</td>\n",
       "      <td>1</td>\n",
       "      <td>147</td>\n",
       "      <td>7500.0</td>\n",
       "      <td>1000.0</td>\n",
       "      <td>381.0</td>\n",
       "      <td>51.02</td>\n",
       "      <td>Apartamento</td>\n",
       "    </tr>\n",
       "    <tr>\n",
       "      <th>3</th>\n",
       "      <td>Apartamento</td>\n",
       "      <td>São Conrado</td>\n",
       "      <td>3</td>\n",
       "      <td>3</td>\n",
       "      <td>3</td>\n",
       "      <td>270</td>\n",
       "      <td>14999.0</td>\n",
       "      <td>2800.0</td>\n",
       "      <td>1200.0</td>\n",
       "      <td>55.55</td>\n",
       "      <td>Apartamento</td>\n",
       "    </tr>\n",
       "    <tr>\n",
       "      <th>4</th>\n",
       "      <td>Apartamento</td>\n",
       "      <td>Tijuca</td>\n",
       "      <td>2</td>\n",
       "      <td>1</td>\n",
       "      <td>0</td>\n",
       "      <td>65</td>\n",
       "      <td>1200.0</td>\n",
       "      <td>640.0</td>\n",
       "      <td>97.0</td>\n",
       "      <td>18.46</td>\n",
       "      <td>Apartamento</td>\n",
       "    </tr>\n",
       "    <tr>\n",
       "      <th>5</th>\n",
       "      <td>Apartamento</td>\n",
       "      <td>Cachambi</td>\n",
       "      <td>2</td>\n",
       "      <td>1</td>\n",
       "      <td>1</td>\n",
       "      <td>75</td>\n",
       "      <td>1400.0</td>\n",
       "      <td>715.0</td>\n",
       "      <td>0.0</td>\n",
       "      <td>18.67</td>\n",
       "      <td>Apartamento</td>\n",
       "    </tr>\n",
       "    <tr>\n",
       "      <th>6</th>\n",
       "      <td>Apartamento</td>\n",
       "      <td>Glória</td>\n",
       "      <td>1</td>\n",
       "      <td>0</td>\n",
       "      <td>0</td>\n",
       "      <td>52</td>\n",
       "      <td>1700.0</td>\n",
       "      <td>560.0</td>\n",
       "      <td>0.0</td>\n",
       "      <td>32.69</td>\n",
       "      <td>Apartamento</td>\n",
       "    </tr>\n",
       "    <tr>\n",
       "      <th>7</th>\n",
       "      <td>Apartamento</td>\n",
       "      <td>Engenho Novo</td>\n",
       "      <td>2</td>\n",
       "      <td>1</td>\n",
       "      <td>0</td>\n",
       "      <td>70</td>\n",
       "      <td>1200.0</td>\n",
       "      <td>430.0</td>\n",
       "      <td>21.0</td>\n",
       "      <td>17.14</td>\n",
       "      <td>Apartamento</td>\n",
       "    </tr>\n",
       "    <tr>\n",
       "      <th>8</th>\n",
       "      <td>Apartamento</td>\n",
       "      <td>Maracanã</td>\n",
       "      <td>1</td>\n",
       "      <td>1</td>\n",
       "      <td>0</td>\n",
       "      <td>59</td>\n",
       "      <td>1500.0</td>\n",
       "      <td>410.0</td>\n",
       "      <td>0.0</td>\n",
       "      <td>25.42</td>\n",
       "      <td>Apartamento</td>\n",
       "    </tr>\n",
       "    <tr>\n",
       "      <th>9</th>\n",
       "      <td>Apartamento</td>\n",
       "      <td>Flamengo</td>\n",
       "      <td>3</td>\n",
       "      <td>0</td>\n",
       "      <td>0</td>\n",
       "      <td>100</td>\n",
       "      <td>2500.0</td>\n",
       "      <td>980.0</td>\n",
       "      <td>105.0</td>\n",
       "      <td>25.00</td>\n",
       "      <td>Apartamento</td>\n",
       "    </tr>\n",
       "  </tbody>\n",
       "</table>\n",
       "</div>"
      ],
      "text/plain": [
       "          Tipo                    Bairro  Quartos  Vagas  Suites  Area  \\\n",
       "0  Apartamento  Recreio dos Bandeirantes        3      2       1   320   \n",
       "1  Apartamento                  Maracanã        2      0       0    59   \n",
       "2  Apartamento                    Leblon        3      2       1   147   \n",
       "3  Apartamento               São Conrado        3      3       3   270   \n",
       "4  Apartamento                    Tijuca        2      1       0    65   \n",
       "5  Apartamento                  Cachambi        2      1       1    75   \n",
       "6  Apartamento                    Glória        1      0       0    52   \n",
       "7  Apartamento              Engenho Novo        2      1       0    70   \n",
       "8  Apartamento                  Maracanã        1      1       0    59   \n",
       "9  Apartamento                  Flamengo        3      0       0   100   \n",
       "\n",
       "     Valor  Condominio    IPTU  Valor m2 Tipo Agregado  \n",
       "0   3200.0      1319.0     0.0     10.00   Apartamento  \n",
       "1    800.0       725.0    47.0     13.56   Apartamento  \n",
       "2   7500.0      1000.0   381.0     51.02   Apartamento  \n",
       "3  14999.0      2800.0  1200.0     55.55   Apartamento  \n",
       "4   1200.0       640.0    97.0     18.46   Apartamento  \n",
       "5   1400.0       715.0     0.0     18.67   Apartamento  \n",
       "6   1700.0       560.0     0.0     32.69   Apartamento  \n",
       "7   1200.0       430.0    21.0     17.14   Apartamento  \n",
       "8   1500.0       410.0     0.0     25.42   Apartamento  \n",
       "9   2500.0       980.0   105.0     25.00   Apartamento  "
      ]
     },
     "execution_count": 81,
     "metadata": {},
     "output_type": "execute_result"
    }
   ],
   "source": [
    "dados.head(10)"
   ]
  },
  {
   "cell_type": "code",
   "execution_count": 82,
   "id": "eb94fe88-8288-4d60-87da-3f165dd56ee3",
   "metadata": {},
   "outputs": [],
   "source": [
    "valor_m2 = dados['Valor m2']"
   ]
  },
  {
   "cell_type": "code",
   "execution_count": 83,
   "id": "63709900-f115-41b9-a7d4-0e74c13c209e",
   "metadata": {},
   "outputs": [],
   "source": [
    "Q1 = valor_m2.quantile(.25)\n",
    "Q3 = valor_m2.quantile(.75)\n",
    "IIQ = Q3 - Q1\n",
    "limite_inferior = Q1 - 1.5 * IIQ\n",
    "limite_superior = Q3 + 1.5 * IIQ"
   ]
  },
  {
   "cell_type": "code",
   "execution_count": 84,
   "id": "890e8ddd-165d-4af7-9b72-bedc85bbd2cf",
   "metadata": {},
   "outputs": [
    {
     "name": "stdout",
     "output_type": "stream",
     "text": [
      "Q1  21.25\n",
      "Q3  42.31\n",
      "IIQ  21.060000000000002\n",
      "limite_inferior  -10.340000000000003\n",
      "limite_superior  73.9\n"
     ]
    }
   ],
   "source": [
    "print('Q1 ', Q1)\n",
    "print('Q3 ', Q3)\n",
    "print('IIQ ', IIQ)\n",
    "print('limite_inferior ', limite_inferior)\n",
    "print('limite_superior ', limite_superior)"
   ]
  },
  {
   "cell_type": "code",
   "execution_count": 85,
   "id": "773fbf4b-3007-4848-8eed-447510406945",
   "metadata": {},
   "outputs": [],
   "source": [
    "selecao = (valor_m2 >= limite_inferior) & (valor_m2 <= limite_superior)\n",
    "dados_new = dados[selecao]"
   ]
  },
  {
   "cell_type": "code",
   "execution_count": 91,
   "id": "1daf3a7e-49d2-4250-9bd6-a29d65e6893b",
   "metadata": {},
   "outputs": [
    {
     "data": {
      "text/plain": [
       "<Axes: >"
      ]
     },
     "execution_count": 91,
     "metadata": {},
     "output_type": "execute_result"
    },
    {
     "data": {
      "image/png": "[encoded data removed]",
      "text/plain": [
       "<Figure size 1400x600 with 1 Axes>"
      ]
     },
     "metadata": {},
     "output_type": "display_data"
    }
   ],
   "source": [
    "dados.boxplot(['Valor m2'])"
   ]
  },
  {
   "cell_type": "code",
   "execution_count": 92,
   "id": "e0fb7a92-ecbd-445f-af4f-5b7b762639aa",
   "metadata": {},
   "outputs": [
    {
     "data": {
      "text/plain": [
       "<Axes: >"
      ]
     },
     "execution_count": 92,
     "metadata": {},
     "output_type": "execute_result"
    },
    {
     "data": {
      "image/png": "[encoded data removed]",
      "text/plain": [
       "<Figure size 1400x600 with 1 Axes>"
      ]
     },
     "metadata": {},
     "output_type": "display_data"
    }
   ],
   "source": [
    "dados_new.boxplot(['Valor m2'])"
   ]
  },
  {
   "cell_type": "code",
   "execution_count": null,
   "id": "3b6e9d62-a694-4567-89d1-6222152d4c78",
   "metadata": {},
   "outputs": [],
   "source": []
  }
 ],
 "metadata": {
  "kernelspec": {
   "display_name": "Python 3 (ipykernel)",
   "language": "python",
   "name": "python3"
  },
  "language_info": {
   "codemirror_mode": {
    "name": "ipython",
    "version": 3
   },
   "file_extension": ".py",
   "mimetype": "text/x-python",
   "name": "python",
   "nbconvert_exporter": "python",
   "pygments_lexer": "ipython3",
   "version": "3.12.0"
  }
 },
 "nbformat": 4,
 "nbformat_minor": 5
}
